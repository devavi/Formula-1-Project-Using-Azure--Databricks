{
 "cells": [
  {
   "cell_type": "markdown",
   "metadata": {
    "application/vnd.databricks.v1+cell": {
     "cellMetadata": {
      "byteLimit": 2048000,
      "rowLimit": 10000
     },
     "inputWidgets": {},
     "nuid": "f0ac98e1-fa4d-4ce6-83cb-c49974e0221e",
     "showTitle": false,
     "title": ""
    }
   },
   "source": [
    "#### Produce drivers standing"
   ]
  },
  {
   "cell_type": "code",
   "execution_count": 0,
   "metadata": {
    "application/vnd.databricks.v1+cell": {
     "cellMetadata": {
      "byteLimit": 2048000,
      "rowLimit": 10000
     },
     "inputWidgets": {},
     "nuid": "a2b08b7b-c6e3-47f0-8760-c0faf0185d70",
     "showTitle": false,
     "title": ""
    }
   },
   "outputs": [],
   "source": [
    "dbutils.widgets.text(\"p_file_date\", \"2021-03-28\")\n",
    "v_file_date = dbutils.widgets.get(\"p_file_date\")"
   ]
  },
  {
   "cell_type": "code",
   "execution_count": 0,
   "metadata": {
    "application/vnd.databricks.v1+cell": {
     "cellMetadata": {
      "byteLimit": 2048000,
      "rowLimit": 10000
     },
     "inputWidgets": {},
     "nuid": "58b26018-0f18-480f-861d-0a8a3aa63128",
     "showTitle": false,
     "title": ""
    }
   },
   "outputs": [],
   "source": [
    "%run \"../includes/common_functions\""
   ]
  },
  {
   "cell_type": "code",
   "execution_count": 0,
   "metadata": {
    "application/vnd.databricks.v1+cell": {
     "cellMetadata": {
      "byteLimit": 2048000,
      "rowLimit": 10000
     },
     "inputWidgets": {},
     "nuid": "8cca6033-d8de-47c0-acf8-3ede6f12b4cc",
     "showTitle": false,
     "title": ""
    }
   },
   "outputs": [],
   "source": [
    "%run \"../includes/configuration\"\n"
   ]
  },
  {
   "cell_type": "markdown",
   "metadata": {
    "application/vnd.databricks.v1+cell": {
     "cellMetadata": {
      "byteLimit": 2048000,
      "rowLimit": 10000
     },
     "inputWidgets": {},
     "nuid": "1b1970b2-1e8f-466c-bec2-eb9457ae9e71",
     "showTitle": false,
     "title": ""
    }
   },
   "source": [
    "#### Find race years for which the data is to be reprocessed"
   ]
  },
  {
   "cell_type": "code",
   "execution_count": 0,
   "metadata": {
    "application/vnd.databricks.v1+cell": {
     "cellMetadata": {
      "byteLimit": 2048000,
      "rowLimit": 10000
     },
     "inputWidgets": {},
     "nuid": "872a31ed-bf6b-43ee-9312-a98d9046fb9a",
     "showTitle": false,
     "title": ""
    }
   },
   "outputs": [],
   "source": [
    "race_results_df = spark.read.format(\"delta\").load(\"/mnt/avinashprojectformula1dl/presentation/race_results\") \\\n",
    ".filter(f\"file_date = '{v_file_date}'\") "
   ]
  },
  {
   "cell_type": "code",
   "execution_count": 0,
   "metadata": {
    "application/vnd.databricks.v1+cell": {
     "cellMetadata": {
      "byteLimit": 2048000,
      "rowLimit": 10000
     },
     "inputWidgets": {},
     "nuid": "5498dcc6-dcd2-40f2-8f72-1deb70b962e1",
     "showTitle": false,
     "title": ""
    }
   },
   "outputs": [],
   "source": [
    "race_year_list = df_column_to_list(race_results_df, 'race_year')"
   ]
  },
  {
   "cell_type": "code",
   "execution_count": 0,
   "metadata": {
    "application/vnd.databricks.v1+cell": {
     "cellMetadata": {
      "byteLimit": 2048000,
      "rowLimit": 10000
     },
     "inputWidgets": {},
     "nuid": "e05527ed-0077-482b-b7ba-c240adcf8144",
     "showTitle": false,
     "title": ""
    }
   },
   "outputs": [],
   "source": [
    "# race_results_list = spark.read.parquet(\"/mnt/avinashprojectformula1dl/presentation/race_results\") \\\n",
    "# .filter(f\"file_date = '{v_file_date}'\") \\\n",
    "# .select(\"race_year\") \\\n",
    "# .distinct() \\\n",
    "# .collect()"
   ]
  },
  {
   "cell_type": "code",
   "execution_count": 0,
   "metadata": {
    "application/vnd.databricks.v1+cell": {
     "cellMetadata": {
      "byteLimit": 2048000,
      "rowLimit": 10000
     },
     "inputWidgets": {},
     "nuid": "7217e678-1b4a-45b4-90ce-e21fbca70f7b",
     "showTitle": false,
     "title": ""
    }
   },
   "outputs": [],
   "source": [
    "# race_year_list = []\n",
    "# for race_year in race_results_list:\n",
    "#     race_year_list.append(race_year.race_year)\n",
    "# print(race_year_list)"
   ]
  },
  {
   "cell_type": "code",
   "execution_count": 0,
   "metadata": {
    "application/vnd.databricks.v1+cell": {
     "cellMetadata": {
      "byteLimit": 2048000,
      "rowLimit": 10000
     },
     "inputWidgets": {},
     "nuid": "c1892c74-7449-4d27-8647-d878e33efb61",
     "showTitle": false,
     "title": ""
    }
   },
   "outputs": [],
   "source": [
    "from pyspark.sql.functions import col\n",
    "race_results_df = spark.read.format(\"delta\").load(\"/mnt/avinashprojectformula1dl/presentation/race_results\") \\\n",
    ".filter(col(\"race_year\").isin(race_year_list))"
   ]
  },
  {
   "cell_type": "code",
   "execution_count": 0,
   "metadata": {
    "application/vnd.databricks.v1+cell": {
     "cellMetadata": {
      "byteLimit": 2048000,
      "rowLimit": 10000
     },
     "inputWidgets": {},
     "nuid": "9f30c0ac-399d-49f4-bf9c-c515472e6367",
     "showTitle": false,
     "title": ""
    }
   },
   "outputs": [],
   "source": [
    "#race_results_df = spark.read.parquet(\"/mnt/avinashprojectformula1dl/presentation/race_results\")"
   ]
  },
  {
   "cell_type": "code",
   "execution_count": 0,
   "metadata": {
    "application/vnd.databricks.v1+cell": {
     "cellMetadata": {
      "byteLimit": 2048000,
      "rowLimit": 10000
     },
     "inputWidgets": {},
     "nuid": "ec2c1f86-090e-40a3-8073-f722ad726955",
     "showTitle": false,
     "title": ""
    }
   },
   "outputs": [],
   "source": [
    "from pyspark.sql.functions import sum, when, count, col\n",
    "\n",
    "driver_standings_df = race_results_df \\\n",
    ".groupBy(\"race_year\", \"driver_name\", \"driver_nationality\") \\\n",
    ".agg(sum(\"points\").alias(\"total_points\"),\n",
    "     count(when(col(\"position\") == 1, True)).alias(\"wins\"))"
   ]
  },
  {
   "cell_type": "code",
   "execution_count": 0,
   "metadata": {
    "application/vnd.databricks.v1+cell": {
     "cellMetadata": {
      "byteLimit": 2048000,
      "rowLimit": 10000
     },
     "inputWidgets": {},
     "nuid": "478093ad-d5a9-407b-956c-5bdbdb8265f1",
     "showTitle": false,
     "title": ""
    }
   },
   "outputs": [],
   "source": [
    "from pyspark.sql.window import Window\n",
    "from pyspark.sql.functions import desc, rank, asc\n",
    "\n",
    "driver_rank_spec = Window.partitionBy(\"race_year\").orderBy(desc(\"total_points\"), desc(\"wins\"))\n",
    "final_df = driver_standings_df.withColumn(\"rank\", rank().over(driver_rank_spec))"
   ]
  },
  {
   "cell_type": "code",
   "execution_count": 0,
   "metadata": {
    "application/vnd.databricks.v1+cell": {
     "cellMetadata": {
      "byteLimit": 2048000,
      "rowLimit": 10000
     },
     "inputWidgets": {},
     "nuid": "7e7a5ed7-388c-44fc-9424-12a59c385883",
     "showTitle": false,
     "title": ""
    }
   },
   "outputs": [],
   "source": [
    "merge_condition = \"tgt.driver_name = src.driver_name AND tgt.race_year = src.race_year\"\n",
    "merge_delta_data(final_df, 'f1_presentation', 'driver_standings', presentation_folder_path, merge_condition, 'race_year')"
   ]
  },
  {
   "cell_type": "code",
   "execution_count": 0,
   "metadata": {
    "application/vnd.databricks.v1+cell": {
     "cellMetadata": {
      "byteLimit": 2048000,
      "rowLimit": 10000
     },
     "inputWidgets": {},
     "nuid": "eac2319a-5a70-4d63-9f19-8fc2ac26e9c7",
     "showTitle": false,
     "title": ""
    }
   },
   "outputs": [],
   "source": [
    "#overwrite_partition(final_df, 'f1_presentation', 'driver_standings', 'race_year')\n"
   ]
  },
  {
   "cell_type": "code",
   "execution_count": 0,
   "metadata": {
    "application/vnd.databricks.v1+cell": {
     "cellMetadata": {
      "byteLimit": 2048000,
      "implicitDf": true,
      "rowLimit": 10000
     },
     "inputWidgets": {},
     "nuid": "aec0b860-666f-4636-8cd9-2aec564fce67",
     "showTitle": false,
     "title": ""
    }
   },
   "outputs": [
    {
     "output_type": "display_data",
     "data": {
      "text/html": [
       "<style scoped>\n",
       "  .table-result-container {\n",
       "    max-height: 300px;\n",
       "    overflow: auto;\n",
       "  }\n",
       "  table, th, td {\n",
       "    border: 1px solid black;\n",
       "    border-collapse: collapse;\n",
       "  }\n",
       "  th, td {\n",
       "    padding: 5px;\n",
       "  }\n",
       "  th {\n",
       "    text-align: left;\n",
       "  }\n",
       "</style><div class='table-result-container'><table class='table-result'><thead style='background-color: white'><tr><th>race_year</th><th>driver_name</th><th>driver_nationality</th><th>total_points</th><th>wins</th><th>rank</th></tr></thead><tbody><tr><td>2021</td><td>Lewis Hamilton</td><td>British</td><td>44.0</td><td>1</td><td>1</td></tr><tr><td>2021</td><td>Max Verstappen</td><td>Dutch</td><td>43.0</td><td>1</td><td>2</td></tr><tr><td>2021</td><td>Lando Norris</td><td>British</td><td>27.0</td><td>0</td><td>3</td></tr><tr><td>2021</td><td>Charles Leclerc</td><td>Monegasque</td><td>20.0</td><td>0</td><td>4</td></tr><tr><td>2021</td><td>Valtteri Bottas</td><td>Finnish</td><td>16.0</td><td>0</td><td>5</td></tr><tr><td>2021</td><td>Daniel Ricciardo</td><td>Australian</td><td>14.0</td><td>0</td><td>6</td></tr><tr><td>2021</td><td>Carlos Sainz</td><td>Spanish</td><td>14.0</td><td>0</td><td>6</td></tr><tr><td>2021</td><td>Sergio Pérez</td><td>Mexican</td><td>10.0</td><td>0</td><td>8</td></tr><tr><td>2021</td><td>Pierre Gasly</td><td>French</td><td>6.0</td><td>0</td><td>9</td></tr><tr><td>2021</td><td>Lance Stroll</td><td>Canadian</td><td>5.0</td><td>0</td><td>10</td></tr><tr><td>2021</td><td>Esteban Ocon</td><td>French</td><td>2.0</td><td>0</td><td>11</td></tr><tr><td>2021</td><td>Yuki Tsunoda</td><td>Japanese</td><td>2.0</td><td>0</td><td>11</td></tr><tr><td>2021</td><td>Fernando Alonso</td><td>Spanish</td><td>1.0</td><td>0</td><td>13</td></tr><tr><td>2021</td><td>George Russell</td><td>British</td><td>0.0</td><td>0</td><td>14</td></tr><tr><td>2021</td><td>Antonio Giovinazzi</td><td>Italian</td><td>0.0</td><td>0</td><td>14</td></tr><tr><td>2021</td><td>Sebastian Vettel</td><td>German</td><td>0.0</td><td>0</td><td>14</td></tr><tr><td>2021</td><td>Nicholas Latifi</td><td>Canadian</td><td>0.0</td><td>0</td><td>14</td></tr><tr><td>2021</td><td>Nikita Mazepin</td><td>Russian</td><td>0.0</td><td>0</td><td>14</td></tr><tr><td>2021</td><td>Mick Schumacher</td><td>German</td><td>0.0</td><td>0</td><td>14</td></tr><tr><td>2021</td><td>Kimi Räikkönen</td><td>Finnish</td><td>0.0</td><td>0</td><td>14</td></tr></tbody></table></div>"
      ]
     },
     "metadata": {
      "application/vnd.databricks.v1+output": {
       "addedWidgets": {},
       "aggData": [],
       "aggError": "",
       "aggOverflow": false,
       "aggSchema": [],
       "aggSeriesLimitReached": false,
       "aggType": "",
       "arguments": {},
       "columnCustomDisplayInfos": {},
       "data": [
        [
         2021,
         "Lewis Hamilton",
         "British",
         44.0,
         1,
         1
        ],
        [
         2021,
         "Max Verstappen",
         "Dutch",
         43.0,
         1,
         2
        ],
        [
         2021,
         "Lando Norris",
         "British",
         27.0,
         0,
         3
        ],
        [
         2021,
         "Charles Leclerc",
         "Monegasque",
         20.0,
         0,
         4
        ],
        [
         2021,
         "Valtteri Bottas",
         "Finnish",
         16.0,
         0,
         5
        ],
        [
         2021,
         "Daniel Ricciardo",
         "Australian",
         14.0,
         0,
         6
        ],
        [
         2021,
         "Carlos Sainz",
         "Spanish",
         14.0,
         0,
         6
        ],
        [
         2021,
         "Sergio Pérez",
         "Mexican",
         10.0,
         0,
         8
        ],
        [
         2021,
         "Pierre Gasly",
         "French",
         6.0,
         0,
         9
        ],
        [
         2021,
         "Lance Stroll",
         "Canadian",
         5.0,
         0,
         10
        ],
        [
         2021,
         "Esteban Ocon",
         "French",
         2.0,
         0,
         11
        ],
        [
         2021,
         "Yuki Tsunoda",
         "Japanese",
         2.0,
         0,
         11
        ],
        [
         2021,
         "Fernando Alonso",
         "Spanish",
         1.0,
         0,
         13
        ],
        [
         2021,
         "George Russell",
         "British",
         0.0,
         0,
         14
        ],
        [
         2021,
         "Antonio Giovinazzi",
         "Italian",
         0.0,
         0,
         14
        ],
        [
         2021,
         "Sebastian Vettel",
         "German",
         0.0,
         0,
         14
        ],
        [
         2021,
         "Nicholas Latifi",
         "Canadian",
         0.0,
         0,
         14
        ],
        [
         2021,
         "Nikita Mazepin",
         "Russian",
         0.0,
         0,
         14
        ],
        [
         2021,
         "Mick Schumacher",
         "German",
         0.0,
         0,
         14
        ],
        [
         2021,
         "Kimi Räikkönen",
         "Finnish",
         0.0,
         0,
         14
        ]
       ],
       "datasetInfos": [],
       "dbfsResultPath": null,
       "isJsonSchema": true,
       "metadata": {},
       "overflow": false,
       "plotOptions": {
        "customPlotOptions": {},
        "displayType": "table",
        "pivotAggregation": null,
        "pivotColumns": null,
        "xColumns": null,
        "yColumns": null
       },
       "removedWidgets": [],
       "schema": [
        {
         "metadata": "{}",
         "name": "race_year",
         "type": "\"integer\""
        },
        {
         "metadata": "{}",
         "name": "driver_name",
         "type": "\"string\""
        },
        {
         "metadata": "{}",
         "name": "driver_nationality",
         "type": "\"string\""
        },
        {
         "metadata": "{}",
         "name": "total_points",
         "type": "\"double\""
        },
        {
         "metadata": "{}",
         "name": "wins",
         "type": "\"long\""
        },
        {
         "metadata": "{}",
         "name": "rank",
         "type": "\"integer\""
        }
       ],
       "type": "table"
      }
     },
     "output_type": "display_data"
    }
   ],
   "source": [
    "%sql\n",
    "SELECT * FROM f1_presentation.driver_standings WHERE race_year = 2021;"
   ]
  },
  {
   "cell_type": "code",
   "execution_count": 0,
   "metadata": {
    "application/vnd.databricks.v1+cell": {
     "cellMetadata": {
      "byteLimit": 2048000,
      "implicitDf": true,
      "rowLimit": 10000
     },
     "inputWidgets": {},
     "nuid": "63e15cda-1d3c-40b8-9baa-45d8bda40170",
     "showTitle": false,
     "title": ""
    }
   },
   "outputs": [
    {
     "output_type": "display_data",
     "data": {
      "text/html": [
       "<style scoped>\n",
       "  .table-result-container {\n",
       "    max-height: 300px;\n",
       "    overflow: auto;\n",
       "  }\n",
       "  table, th, td {\n",
       "    border: 1px solid black;\n",
       "    border-collapse: collapse;\n",
       "  }\n",
       "  th, td {\n",
       "    padding: 5px;\n",
       "  }\n",
       "  th {\n",
       "    text-align: left;\n",
       "  }\n",
       "</style><div class='table-result-container'><table class='table-result'><thead style='background-color: white'><tr><th>race_year</th><th>count(1)</th></tr></thead><tbody><tr><td>2021</td><td>20</td></tr><tr><td>2020</td><td>23</td></tr><tr><td>2019</td><td>20</td></tr><tr><td>2018</td><td>20</td></tr><tr><td>2017</td><td>25</td></tr><tr><td>2016</td><td>24</td></tr><tr><td>2015</td><td>22</td></tr><tr><td>2014</td><td>24</td></tr><tr><td>2013</td><td>23</td></tr><tr><td>2012</td><td>25</td></tr><tr><td>2011</td><td>28</td></tr><tr><td>2010</td><td>27</td></tr><tr><td>2009</td><td>25</td></tr><tr><td>2008</td><td>22</td></tr><tr><td>2007</td><td>26</td></tr><tr><td>2006</td><td>27</td></tr><tr><td>2005</td><td>27</td></tr><tr><td>2004</td><td>25</td></tr><tr><td>2003</td><td>24</td></tr><tr><td>2002</td><td>23</td></tr><tr><td>2001</td><td>26</td></tr><tr><td>2000</td><td>23</td></tr><tr><td>1999</td><td>24</td></tr><tr><td>1998</td><td>23</td></tr><tr><td>1997</td><td>28</td></tr><tr><td>1996</td><td>24</td></tr><tr><td>1995</td><td>35</td></tr><tr><td>1994</td><td>46</td></tr><tr><td>1993</td><td>35</td></tr><tr><td>1992</td><td>37</td></tr><tr><td>1991</td><td>41</td></tr><tr><td>1990</td><td>40</td></tr><tr><td>1989</td><td>47</td></tr><tr><td>1988</td><td>36</td></tr><tr><td>1987</td><td>32</td></tr><tr><td>1986</td><td>32</td></tr><tr><td>1985</td><td>36</td></tr><tr><td>1984</td><td>35</td></tr><tr><td>1983</td><td>35</td></tr><tr><td>1982</td><td>40</td></tr><tr><td>1981</td><td>39</td></tr><tr><td>1980</td><td>41</td></tr><tr><td>1979</td><td>36</td></tr><tr><td>1978</td><td>46</td></tr><tr><td>1977</td><td>61</td></tr><tr><td>1976</td><td>54</td></tr><tr><td>1975</td><td>52</td></tr><tr><td>1974</td><td>62</td></tr><tr><td>1973</td><td>43</td></tr><tr><td>1972</td><td>42</td></tr><tr><td>1971</td><td>50</td></tr><tr><td>1970</td><td>43</td></tr><tr><td>1969</td><td>31</td></tr><tr><td>1968</td><td>43</td></tr><tr><td>1967</td><td>45</td></tr><tr><td>1966</td><td>33</td></tr><tr><td>1965</td><td>54</td></tr><tr><td>1964</td><td>41</td></tr><tr><td>1963</td><td>62</td></tr><tr><td>1962</td><td>61</td></tr><tr><td>1961</td><td>62</td></tr><tr><td>1960</td><td>91</td></tr><tr><td>1959</td><td>88</td></tr><tr><td>1958</td><td>87</td></tr><tr><td>1957</td><td>76</td></tr><tr><td>1956</td><td>85</td></tr><tr><td>1955</td><td>84</td></tr><tr><td>1954</td><td>97</td></tr><tr><td>1953</td><td>108</td></tr><tr><td>1952</td><td>105</td></tr><tr><td>1951</td><td>84</td></tr><tr><td>1950</td><td>81</td></tr></tbody></table></div>"
      ]
     },
     "metadata": {
      "application/vnd.databricks.v1+output": {
       "addedWidgets": {},
       "aggData": [],
       "aggError": "",
       "aggOverflow": false,
       "aggSchema": [],
       "aggSeriesLimitReached": false,
       "aggType": "",
       "arguments": {},
       "columnCustomDisplayInfos": {},
       "data": [
        [
         2021,
         20
        ],
        [
         2020,
         23
        ],
        [
         2019,
         20
        ],
        [
         2018,
         20
        ],
        [
         2017,
         25
        ],
        [
         2016,
         24
        ],
        [
         2015,
         22
        ],
        [
         2014,
         24
        ],
        [
         2013,
         23
        ],
        [
         2012,
         25
        ],
        [
         2011,
         28
        ],
        [
         2010,
         27
        ],
        [
         2009,
         25
        ],
        [
         2008,
         22
        ],
        [
         2007,
         26
        ],
        [
         2006,
         27
        ],
        [
         2005,
         27
        ],
        [
         2004,
         25
        ],
        [
         2003,
         24
        ],
        [
         2002,
         23
        ],
        [
         2001,
         26
        ],
        [
         2000,
         23
        ],
        [
         1999,
         24
        ],
        [
         1998,
         23
        ],
        [
         1997,
         28
        ],
        [
         1996,
         24
        ],
        [
         1995,
         35
        ],
        [
         1994,
         46
        ],
        [
         1993,
         35
        ],
        [
         1992,
         37
        ],
        [
         1991,
         41
        ],
        [
         1990,
         40
        ],
        [
         1989,
         47
        ],
        [
         1988,
         36
        ],
        [
         1987,
         32
        ],
        [
         1986,
         32
        ],
        [
         1985,
         36
        ],
        [
         1984,
         35
        ],
        [
         1983,
         35
        ],
        [
         1982,
         40
        ],
        [
         1981,
         39
        ],
        [
         1980,
         41
        ],
        [
         1979,
         36
        ],
        [
         1978,
         46
        ],
        [
         1977,
         61
        ],
        [
         1976,
         54
        ],
        [
         1975,
         52
        ],
        [
         1974,
         62
        ],
        [
         1973,
         43
        ],
        [
         1972,
         42
        ],
        [
         1971,
         50
        ],
        [
         1970,
         43
        ],
        [
         1969,
         31
        ],
        [
         1968,
         43
        ],
        [
         1967,
         45
        ],
        [
         1966,
         33
        ],
        [
         1965,
         54
        ],
        [
         1964,
         41
        ],
        [
         1963,
         62
        ],
        [
         1962,
         61
        ],
        [
         1961,
         62
        ],
        [
         1960,
         91
        ],
        [
         1959,
         88
        ],
        [
         1958,
         87
        ],
        [
         1957,
         76
        ],
        [
         1956,
         85
        ],
        [
         1955,
         84
        ],
        [
         1954,
         97
        ],
        [
         1953,
         108
        ],
        [
         1952,
         105
        ],
        [
         1951,
         84
        ],
        [
         1950,
         81
        ]
       ],
       "datasetInfos": [],
       "dbfsResultPath": null,
       "isJsonSchema": true,
       "metadata": {},
       "overflow": false,
       "plotOptions": {
        "customPlotOptions": {},
        "displayType": "table",
        "pivotAggregation": null,
        "pivotColumns": null,
        "xColumns": null,
        "yColumns": null
       },
       "removedWidgets": [],
       "schema": [
        {
         "metadata": "{}",
         "name": "race_year",
         "type": "\"integer\""
        },
        {
         "metadata": "{\"__autoGeneratedAlias\":\"true\"}",
         "name": "count(1)",
         "type": "\"long\""
        }
       ],
       "type": "table"
      }
     },
     "output_type": "display_data"
    }
   ],
   "source": [
    "%sql\n",
    "SELECT race_year, COUNT(1)\n",
    "FROM f1_presentation.driver_standings\n",
    "GROUP BY race_year\n",
    "ORDER BY race_year DESC;"
   ]
  }
 ],
 "metadata": {
  "application/vnd.databricks.v1+notebook": {
   "dashboards": [],
   "language": "python",
   "notebookMetadata": {
    "mostRecentlyExecutedCommandWithImplicitDF": {
     "commandId": 2721970493878358,
     "dataframes": [
      "_sqldf"
     ]
    },
    "pythonIndentUnit": 4
   },
   "notebookName": "2.drivers_Standing",
   "widgets": {
    "p_file_date": {
     "currentValue": "2021-04-18",
     "nuid": "20f38856-bdd8-4157-9f12-98b249bcdc00",
     "typedWidgetInfo": null,
     "widgetInfo": {
      "widgetType": "text",
      "defaultValue": "2021-03-28",
      "label": null,
      "name": "p_file_date",
      "options": {
       "widgetType": "text",
       "autoCreated": null,
       "validationRegex": null
      }
     }
    }
   }
  }
 },
 "nbformat": 4,
 "nbformat_minor": 0
}
