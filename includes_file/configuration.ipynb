{
 "cells": [
  {
   "cell_type": "code",
   "execution_count": 0,
   "metadata": {
    "application/vnd.databricks.v1+cell": {
     "cellMetadata": {
      "byteLimit": 2048000,
      "rowLimit": 10000
     },
     "inputWidgets": {},
     "nuid": "8e31a828-871c-4c2f-9097-6b391b1b85e7",
     "showTitle": false,
     "title": ""
    }
   },
   "outputs": [],
   "source": [
    "raw_folder_path = '/mnt/avinashprojectformula1dl/raw'\n",
    "processed_folder_path = '/mnt/avinashprojectformula1dl/processed'\n",
    "presentation_folder_path = '/mnt/avinashprojectformula1dl/presentation'"
   ]
  }
 ],
 "metadata": {
  "application/vnd.databricks.v1+notebook": {
   "dashboards": [],
   "language": "python",
   "notebookMetadata": {
    "pythonIndentUnit": 4
   },
   "notebookName": "configuration",
   "widgets": {}
  }
 },
 "nbformat": 4,
 "nbformat_minor": 0
}
