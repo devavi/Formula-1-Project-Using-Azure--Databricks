{
 "cells": [
  {
   "cell_type": "code",
   "execution_count": 0,
   "metadata": {
    "application/vnd.databricks.v1+cell": {
     "cellMetadata": {
      "byteLimit": 2048000,
      "rowLimit": 10000
     },
     "inputWidgets": {},
     "nuid": "00f88a3f-16b6-4338-ba32-d9fa184a3904",
     "showTitle": false,
     "title": ""
    }
   },
   "outputs": [],
   "source": [
    "v_result = dbutils.notebook.run(\"1.ingest_circuits_file\", 0, {\"p_data_source\": \"Ergast API\" , \"p_file_date\": \"2021-04-18\"})"
   ]
  },
  {
   "cell_type": "code",
   "execution_count": 0,
   "metadata": {
    "application/vnd.databricks.v1+cell": {
     "cellMetadata": {
      "byteLimit": 2048000,
      "rowLimit": 10000
     },
     "inputWidgets": {},
     "nuid": "93707c92-3df0-4ca3-88a4-1c8982d6316d",
     "showTitle": false,
     "title": ""
    }
   },
   "outputs": [],
   "source": [
    "v_result"
   ]
  },
  {
   "cell_type": "code",
   "execution_count": 0,
   "metadata": {
    "application/vnd.databricks.v1+cell": {
     "cellMetadata": {
      "byteLimit": 2048000,
      "rowLimit": 10000
     },
     "inputWidgets": {},
     "nuid": "9f0e8add-dac7-4265-9d27-0c71e503fe66",
     "showTitle": false,
     "title": ""
    }
   },
   "outputs": [],
   "source": [
    "v_result = dbutils.notebook.run(\"2.ingest_races_file\", 0, {\"p_data_source\": \"Ergast API\" , \"p_file_date\": \"2021-04-18\"})"
   ]
  },
  {
   "cell_type": "code",
   "execution_count": 0,
   "metadata": {
    "application/vnd.databricks.v1+cell": {
     "cellMetadata": {
      "byteLimit": 2048000,
      "rowLimit": 10000
     },
     "inputWidgets": {},
     "nuid": "253f8480-4c89-48c7-869e-f1e03d842089",
     "showTitle": false,
     "title": ""
    }
   },
   "outputs": [],
   "source": [
    "v_result = dbutils.notebook.run(\"3.ingest_constructors_file\", 0, {\"p_data_source\": \"Ergast API\" , \"p_file_date\": \"2021-04-18\"})"
   ]
  },
  {
   "cell_type": "code",
   "execution_count": 0,
   "metadata": {
    "application/vnd.databricks.v1+cell": {
     "cellMetadata": {
      "byteLimit": 2048000,
      "rowLimit": 10000
     },
     "inputWidgets": {},
     "nuid": "14f7b805-e6f4-42ae-9ab9-42c9ae7cec75",
     "showTitle": false,
     "title": ""
    }
   },
   "outputs": [],
   "source": [
    "v_result = dbutils.notebook.run(\"4.ingest_drivers_file\", 0, {\"p_data_source\": \"Ergast API\" , \"p_file_date\": \"2021-04-18\"})"
   ]
  },
  {
   "cell_type": "code",
   "execution_count": 0,
   "metadata": {
    "application/vnd.databricks.v1+cell": {
     "cellMetadata": {
      "byteLimit": 2048000,
      "rowLimit": 10000
     },
     "inputWidgets": {},
     "nuid": "90dd2f28-bb8b-4252-a365-7ee305ae21a2",
     "showTitle": false,
     "title": ""
    }
   },
   "outputs": [],
   "source": [
    "v_result = dbutils.notebook.run(\"5.ingest_results_file\", 0, {\"p_data_source\": \"Ergast API\" , \"p_file_date\": \"2021-04-18\"})"
   ]
  },
  {
   "cell_type": "code",
   "execution_count": 0,
   "metadata": {
    "application/vnd.databricks.v1+cell": {
     "cellMetadata": {
      "byteLimit": 2048000,
      "rowLimit": 10000
     },
     "inputWidgets": {},
     "nuid": "4d2b4183-9216-4815-ad2f-3eda8bcec367",
     "showTitle": false,
     "title": ""
    }
   },
   "outputs": [],
   "source": [
    "v_result = dbutils.notebook.run(\"6.ingest_pit_stops_file\", 0, {\"p_data_source\": \"Ergast API\" , \"p_file_date\": \"2021-04-18\"})"
   ]
  },
  {
   "cell_type": "code",
   "execution_count": 0,
   "metadata": {
    "application/vnd.databricks.v1+cell": {
     "cellMetadata": {
      "byteLimit": 2048000,
      "rowLimit": 10000
     },
     "inputWidgets": {},
     "nuid": "5d2be604-dd50-4318-9fb2-0badb8a667d3",
     "showTitle": false,
     "title": ""
    }
   },
   "outputs": [],
   "source": [
    "v_result = dbutils.notebook.run(\"7.ingest_lap_times_file\", 0, {\"p_data_source\": \"Ergast API\" , \"p_file_date\": \"2021-04-18\"})"
   ]
  },
  {
   "cell_type": "code",
   "execution_count": 0,
   "metadata": {
    "application/vnd.databricks.v1+cell": {
     "cellMetadata": {
      "byteLimit": 2048000,
      "rowLimit": 10000
     },
     "inputWidgets": {},
     "nuid": "58d413bb-34b4-4b21-bbd1-aefdb0ce2273",
     "showTitle": false,
     "title": ""
    }
   },
   "outputs": [],
   "source": [
    "v_result = dbutils.notebook.run(\"8.ingest_qualifying_file\", 0, {\"p_data_source\": \"Ergast API\" , \"p_file_date\": \"2021-04-18\"})"
   ]
  }
 ],
 "metadata": {
  "application/vnd.databricks.v1+notebook": {
   "dashboards": [],
   "language": "python",
   "notebookMetadata": {
    "mostRecentlyExecutedCommandWithImplicitDF": {
     "commandId": 1703051567288315,
     "dataframes": [
      "_sqldf"
     ]
    },
    "pythonIndentUnit": 4
   },
   "notebookName": "0. ingest_all_files",
   "widgets": {}
  }
 },
 "nbformat": 4,
 "nbformat_minor": 0
}
